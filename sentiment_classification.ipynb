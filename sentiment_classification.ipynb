{
 "cells": [
  {
   "cell_type": "markdown",
   "metadata": {},
   "source": [
    "# Reading Dataset"
   ]
  },
  {
   "cell_type": "code",
   "execution_count": 1,
   "metadata": {},
   "outputs": [],
   "source": [
    "import pandas as pd\n",
    "import numpy as np\n",
    "dataset = pd.read_csv('../sentiment-labelled-sentences/data.txt', sep='\\t', header=None)\n",
    "dataset.columns = [\"Sentence\", \"Sentiment\"]"
   ]
  },
  {
   "cell_type": "code",
   "execution_count": 2,
   "metadata": {},
   "outputs": [
    {
     "data": {
      "text/html": [
       "<div>\n",
       "<style scoped>\n",
       "    .dataframe tbody tr th:only-of-type {\n",
       "        vertical-align: middle;\n",
       "    }\n",
       "\n",
       "    .dataframe tbody tr th {\n",
       "        vertical-align: top;\n",
       "    }\n",
       "\n",
       "    .dataframe thead th {\n",
       "        text-align: right;\n",
       "    }\n",
       "</style>\n",
       "<table border=\"1\" class=\"dataframe\">\n",
       "  <thead>\n",
       "    <tr style=\"text-align: right;\">\n",
       "      <th></th>\n",
       "      <th>Sentence</th>\n",
       "      <th>Sentiment</th>\n",
       "    </tr>\n",
       "  </thead>\n",
       "  <tbody>\n",
       "    <tr>\n",
       "      <th>0</th>\n",
       "      <td>So there is no way for me to plug it in here i...</td>\n",
       "      <td>0</td>\n",
       "    </tr>\n",
       "    <tr>\n",
       "      <th>1</th>\n",
       "      <td>Good case, Excellent value.</td>\n",
       "      <td>1</td>\n",
       "    </tr>\n",
       "    <tr>\n",
       "      <th>2</th>\n",
       "      <td>Great for the jawbone.</td>\n",
       "      <td>1</td>\n",
       "    </tr>\n",
       "    <tr>\n",
       "      <th>3</th>\n",
       "      <td>Tied to charger for conversations lasting more...</td>\n",
       "      <td>0</td>\n",
       "    </tr>\n",
       "    <tr>\n",
       "      <th>4</th>\n",
       "      <td>The mic is great.</td>\n",
       "      <td>1</td>\n",
       "    </tr>\n",
       "  </tbody>\n",
       "</table>\n",
       "</div>"
      ],
      "text/plain": [
       "                                            Sentence  Sentiment\n",
       "0  So there is no way for me to plug it in here i...          0\n",
       "1                        Good case, Excellent value.          1\n",
       "2                             Great for the jawbone.          1\n",
       "3  Tied to charger for conversations lasting more...          0\n",
       "4                                  The mic is great.          1"
      ]
     },
     "execution_count": 2,
     "metadata": {},
     "output_type": "execute_result"
    }
   ],
   "source": [
    "dataset.head()"
   ]
  },
  {
   "cell_type": "code",
   "execution_count": 3,
   "metadata": {},
   "outputs": [
    {
     "data": {
      "text/html": [
       "<div>\n",
       "<style scoped>\n",
       "    .dataframe tbody tr th:only-of-type {\n",
       "        vertical-align: middle;\n",
       "    }\n",
       "\n",
       "    .dataframe tbody tr th {\n",
       "        vertical-align: top;\n",
       "    }\n",
       "\n",
       "    .dataframe thead th {\n",
       "        text-align: right;\n",
       "    }\n",
       "</style>\n",
       "<table border=\"1\" class=\"dataframe\">\n",
       "  <thead>\n",
       "    <tr style=\"text-align: right;\">\n",
       "      <th></th>\n",
       "      <th>Sentiment</th>\n",
       "    </tr>\n",
       "  </thead>\n",
       "  <tbody>\n",
       "    <tr>\n",
       "      <th>count</th>\n",
       "      <td>2748.000000</td>\n",
       "    </tr>\n",
       "    <tr>\n",
       "      <th>mean</th>\n",
       "      <td>0.504367</td>\n",
       "    </tr>\n",
       "    <tr>\n",
       "      <th>std</th>\n",
       "      <td>0.500072</td>\n",
       "    </tr>\n",
       "    <tr>\n",
       "      <th>min</th>\n",
       "      <td>0.000000</td>\n",
       "    </tr>\n",
       "    <tr>\n",
       "      <th>25%</th>\n",
       "      <td>0.000000</td>\n",
       "    </tr>\n",
       "    <tr>\n",
       "      <th>50%</th>\n",
       "      <td>1.000000</td>\n",
       "    </tr>\n",
       "    <tr>\n",
       "      <th>75%</th>\n",
       "      <td>1.000000</td>\n",
       "    </tr>\n",
       "    <tr>\n",
       "      <th>max</th>\n",
       "      <td>1.000000</td>\n",
       "    </tr>\n",
       "  </tbody>\n",
       "</table>\n",
       "</div>"
      ],
      "text/plain": [
       "         Sentiment\n",
       "count  2748.000000\n",
       "mean      0.504367\n",
       "std       0.500072\n",
       "min       0.000000\n",
       "25%       0.000000\n",
       "50%       1.000000\n",
       "75%       1.000000\n",
       "max       1.000000"
      ]
     },
     "execution_count": 3,
     "metadata": {},
     "output_type": "execute_result"
    }
   ],
   "source": [
    "dataset.describe()"
   ]
  },
  {
   "cell_type": "code",
   "execution_count": 4,
   "metadata": {},
   "outputs": [
    {
     "data": {
      "text/plain": [
       "1    1386\n",
       "0    1362\n",
       "Name: Sentiment, dtype: int64"
      ]
     },
     "execution_count": 4,
     "metadata": {},
     "output_type": "execute_result"
    }
   ],
   "source": [
    "dataset.Sentiment.value_counts()"
   ]
  },
  {
   "cell_type": "code",
   "execution_count": 5,
   "metadata": {},
   "outputs": [
    {
     "data": {
      "text/html": [
       "<div>\n",
       "<style scoped>\n",
       "    .dataframe tbody tr th:only-of-type {\n",
       "        vertical-align: middle;\n",
       "    }\n",
       "\n",
       "    .dataframe tbody tr th {\n",
       "        vertical-align: top;\n",
       "    }\n",
       "\n",
       "    .dataframe thead th {\n",
       "        text-align: right;\n",
       "    }\n",
       "</style>\n",
       "<table border=\"1\" class=\"dataframe\">\n",
       "  <thead>\n",
       "    <tr style=\"text-align: right;\">\n",
       "      <th></th>\n",
       "      <th>Sentiment</th>\n",
       "    </tr>\n",
       "  </thead>\n",
       "  <tbody>\n",
       "    <tr>\n",
       "      <th>count</th>\n",
       "      <td>2748.000000</td>\n",
       "    </tr>\n",
       "    <tr>\n",
       "      <th>mean</th>\n",
       "      <td>0.504367</td>\n",
       "    </tr>\n",
       "    <tr>\n",
       "      <th>std</th>\n",
       "      <td>0.500072</td>\n",
       "    </tr>\n",
       "    <tr>\n",
       "      <th>min</th>\n",
       "      <td>0.000000</td>\n",
       "    </tr>\n",
       "    <tr>\n",
       "      <th>25%</th>\n",
       "      <td>0.000000</td>\n",
       "    </tr>\n",
       "    <tr>\n",
       "      <th>50%</th>\n",
       "      <td>1.000000</td>\n",
       "    </tr>\n",
       "    <tr>\n",
       "      <th>75%</th>\n",
       "      <td>1.000000</td>\n",
       "    </tr>\n",
       "    <tr>\n",
       "      <th>max</th>\n",
       "      <td>1.000000</td>\n",
       "    </tr>\n",
       "  </tbody>\n",
       "</table>\n",
       "</div>"
      ],
      "text/plain": [
       "         Sentiment\n",
       "count  2748.000000\n",
       "mean      0.504367\n",
       "std       0.500072\n",
       "min       0.000000\n",
       "25%       0.000000\n",
       "50%       1.000000\n",
       "75%       1.000000\n",
       "max       1.000000"
      ]
     },
     "execution_count": 5,
     "metadata": {},
     "output_type": "execute_result"
    }
   ],
   "source": [
    "dataset.describe()\n",
    "\n",
    "\n",
    "#text_counts = cv.fit_transform(dataset[\"Sentence\"])"
   ]
  },
  {
   "cell_type": "markdown",
   "metadata": {},
   "source": [
    "# Making feature vectors"
   ]
  },
  {
   "cell_type": "code",
   "execution_count": 6,
   "metadata": {},
   "outputs": [],
   "source": [
    "#for normal countvector\n",
    "#from sklearn.feature_extraction.text import CountVectorizer\n",
    "#from nltk.tokenize import RegexpTokenizer\n",
    "#token = RegexpTokenizer(r'[a-zA-Z0-9]+')\n",
    "#cv = CountVectorizer(stop_words='english', ngram_range=(1,1), tokenizer=token.tokenize)\n",
    "\n",
    "#For tf feauture value\n",
    "\n",
    "\n",
    "from sklearn.feature_extraction.text import TfidfVectorizer\n",
    "cv = TfidfVectorizer(sublinear_tf=True, max_df=0.5, stop_words='english')\n",
    "text_counts = cv.fit_transform(dataset[\"Sentence\"])"
   ]
  },
  {
   "cell_type": "markdown",
   "metadata": {},
   "source": [
    "# Making training and test set"
   ]
  },
  {
   "cell_type": "code",
   "execution_count": 7,
   "metadata": {},
   "outputs": [],
   "source": [
    "from sklearn.model_selection import train_test_split\n",
    "X_train, X_test, Y_train, Y_test = train_test_split(text_counts, dataset[\"Sentiment\"], test_size=0.2, random_state=30 )"
   ]
  },
  {
   "cell_type": "markdown",
   "metadata": {},
   "source": [
    "# Importing different NB classifiers"
   ]
  },
  {
   "cell_type": "code",
   "execution_count": 8,
   "metadata": {},
   "outputs": [
    {
     "data": {
      "text/plain": [
       "MultinomialNB()"
      ]
     },
     "execution_count": 8,
     "metadata": {},
     "output_type": "execute_result"
    }
   ],
   "source": [
    "from sklearn.naive_bayes import *\n",
    "\n",
    "\n",
    "\n",
    "MNB = MultinomialNB()\n",
    "MNB.fit(X_train,Y_train)\n",
    "\n"
   ]
  },
  {
   "cell_type": "code",
   "execution_count": 9,
   "metadata": {},
   "outputs": [
    {
     "name": "stdout",
     "output_type": "stream",
     "text": [
      "The modele accuracy is : 84.91 %\n"
     ]
    }
   ],
   "source": [
    "from sklearn import metrics\n",
    "\n",
    "predicted = MNB.predict(X_test)\n",
    "accuracy_score = metrics.accuracy_score(predicted, Y_test)\n",
    "\n",
    "print(\"The modele accuracy is : \"+str(\"{:04.2f}\".format(accuracy_score*100))+\" %\")"
   ]
  },
  {
   "cell_type": "markdown",
   "metadata": {},
   "source": [
    "# For optimization we can try different models and methods"
   ]
  },
  {
   "cell_type": "code",
   "execution_count": 10,
   "metadata": {},
   "outputs": [],
   "source": [
    "def optimizer2(dataset = dataset, i=1, j=1, l=1, s=\"MultinomialNB\"):\n",
    "    \n",
    "    \n",
    "    #For countvectorizer features\n",
    "    \n",
    "    cv = TfidfVectorizer(sublinear_tf=True, max_df=0.5, stop_words='english')\n",
    "    text_counts = cv.fit_transform(dataset[\"Sentence\"])    \n",
    "    x_tr, x_t, y_tr, y_t = train_test_split(text_counts, dataset[\"Sentiment\"], test_size=0.2, random_state=l )    \n",
    "\n",
    "    if(s==\"MultinomialNB\"):\n",
    "        model = MultinomialNB()\n",
    "    elif(s==\"GaussianNB\"):\n",
    "        model = GaussianNB()\n",
    "        x_tr = x_tr.todense()\n",
    "        x_t = x_t.todense()\n",
    "        y_tr = y_tr.to_numpy()\n",
    "        y_t = y_t.to_numpy()\n",
    "    elif(s==\"BernoulliNB\"):\n",
    "        model = BernoulliNB()\n",
    "    elif(s==\"CategoricalNB\"):\n",
    "        model = CategoricalNB()\n",
    "        x_tr = x_tr.todense()\n",
    "        x_t = x_t.todense()\n",
    "        y_tr = y_tr.to_numpy()\n",
    "        y_t = y_t.to_numpy()\n",
    "    elif(s==\"ComplementNB\"):\n",
    "        model = ComplementNB()\n",
    "    \n",
    "    \n",
    "\n",
    "\n",
    "        \n",
    "    model.fit(x_tr,y_tr)\n",
    "    \n",
    "    predicted = model.predict(x_t)\n",
    "    accuracy_score = metrics.accuracy_score(predicted, y_t)\n",
    "\n",
    "    print(\" The modele accuracy for model \"+s+\" and i= \"+str(i)+\" and j= \"+str(j)+\\\n",
    "          \" is : \"+str(\"{:04.2f}\".format(accuracy_score*100))+\" %\")\n",
    "    \n",
    "    return accuracy_score\n",
    "    "
   ]
  },
  {
   "cell_type": "code",
   "execution_count": 11,
   "metadata": {},
   "outputs": [
    {
     "name": "stdout",
     "output_type": "stream",
     "text": [
      " The modele accuracy for model MultinomialNB and i= 1 and j= 1 is : 84.91 %\n",
      " The modele accuracy for model GaussianNB and i= 1 and j= 1 is : 61.45 %\n",
      " The modele accuracy for model BernoulliNB and i= 1 and j= 1 is : 83.82 %\n",
      " The modele accuracy for model ComplementNB and i= 1 and j= 1 is : 85.09 %\n"
     ]
    }
   ],
   "source": [
    "#i and j are ngram_range=(i,j) either unigram , bigram or both\n",
    "model_list=[\"MultinomialNB\",\"GaussianNB\",\"BernoulliNB\",\"ComplementNB\"]\n",
    "\n",
    "\n",
    "cnt=0\n",
    "for k in model_list:\n",
    "    \n",
    "    \n",
    "    \n",
    "        cnt+=1\n",
    "        #print(\"Number\"+str(cnt)+\"       random_state=\"+str(l))\n",
    "    \n",
    "    \n",
    "        a=optimizer2(dataset = dataset, i=1,j=1,l=30,s=k) \n",
    "\n",
    "\n",
    "        \n",
    "        \n",
    "         \n",
    "\n",
    "#Highest accuracy is for Multinomial is highest and is 76.27% for countvectorizer features\n",
    "#Highest accuracy is for MultinomialNB is highest and is 84.91% for TfidfVectorizer features\n",
    "#Highest accuracy is for GaussianNB is highest and is 61.45% for TfidfVectorizer features\n",
    "#Highest accuracy is for BernoulliNB is highest and is 83.82% for TfidfVectorizer features\n",
    "#Highest accuracy is for ComplementNB is highest and is 85.09% for TfidfVectorizer features \n",
    "\n",
    "\n"
   ]
  },
  {
   "cell_type": "code",
   "execution_count": null,
   "metadata": {},
   "outputs": [],
   "source": []
  }
 ],
 "metadata": {
  "kernelspec": {
   "display_name": "Python 3",
   "language": "python",
   "name": "python3"
  },
  "language_info": {
   "codemirror_mode": {
    "name": "ipython",
    "version": 3
   },
   "file_extension": ".py",
   "mimetype": "text/x-python",
   "name": "python",
   "nbconvert_exporter": "python",
   "pygments_lexer": "ipython3",
   "version": "3.8.5"
  }
 },
 "nbformat": 4,
 "nbformat_minor": 4
}
